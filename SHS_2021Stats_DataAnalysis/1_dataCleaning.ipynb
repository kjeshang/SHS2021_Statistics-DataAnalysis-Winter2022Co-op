{
  "cells": [
    {
      "cell_type": "markdown",
      "metadata": {},
      "source": [
        "# **1. Data Cleaning**"
      ]
    },
    {
      "cell_type": "markdown",
      "metadata": {
        "id": "-SBZStfnylAO"
      },
      "source": [
        "# Setup"
      ]
    },
    {
      "cell_type": "code",
      "execution_count": 1,
      "metadata": {
        "id": "xnedaGM2ymp0"
      },
      "outputs": [],
      "source": [
        "import pandas as pd"
      ]
    },
    {
      "cell_type": "markdown",
      "metadata": {
        "id": "iN-C3mqeit34"
      },
      "source": [
        "**Import data file: \"Daily Stats Entry Form.xlsx\"**\n",
        "\n",
        "> This data file contains SHS Statistics data for Winter 2021\n",
        "\n"
      ]
    },
    {
      "cell_type": "code",
      "execution_count": 2,
      "metadata": {
        "colab": {
          "base_uri": "https://localhost:8080/",
          "height": 358,
          "resources": {
            "http://localhost:8080/nbextensions/google.colab/files.js": {
              "data": "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",
              "headers": [
                [
                  "content-type",
                  "application/javascript"
                ]
              ],
              "ok": true,
              "status": 200,
              "status_text": ""
            }
          }
        },
        "id": "WSIDV1UE6jpC",
        "outputId": "b935ee83-69b4-4fd4-9b3e-d3e9d7a2407d"
      },
      "outputs": [
        {
          "data": {
            "text/html": [
              "<div>\n",
              "<style scoped>\n",
              "    .dataframe tbody tr th:only-of-type {\n",
              "        vertical-align: middle;\n",
              "    }\n",
              "\n",
              "    .dataframe tbody tr th {\n",
              "        vertical-align: top;\n",
              "    }\n",
              "\n",
              "    .dataframe thead th {\n",
              "        text-align: right;\n",
              "    }\n",
              "</style>\n",
              "<table border=\"1\" class=\"dataframe\">\n",
              "  <thead>\n",
              "    <tr style=\"text-align: right;\">\n",
              "      <th></th>\n",
              "      <th>ID</th>\n",
              "      <th>Start time</th>\n",
              "      <th>Completion time</th>\n",
              "      <th>Email</th>\n",
              "      <th>Name</th>\n",
              "      <th>Please input the date of interaction with student</th>\n",
              "      <th>Please select the appropriate time period of your first interaction</th>\n",
              "      <th>Please select the appropriate Task Category or type it in the Other section</th>\n",
              "    </tr>\n",
              "  </thead>\n",
              "  <tbody>\n",
              "    <tr>\n",
              "      <th>0</th>\n",
              "      <td>1</td>\n",
              "      <td>2021-01-14 08:30:05</td>\n",
              "      <td>2021-01-14 08:30:22</td>\n",
              "      <td>shs@douglascollege.ca</td>\n",
              "      <td>Students Helping Students</td>\n",
              "      <td>2021-01-04</td>\n",
              "      <td>07:30 - 08:00</td>\n",
              "      <td>Blackboard Issues</td>\n",
              "    </tr>\n",
              "  </tbody>\n",
              "</table>\n",
              "</div>"
            ],
            "text/plain": [
              "   ID          Start time     Completion time                  Email  \\\n",
              "0   1 2021-01-14 08:30:05 2021-01-14 08:30:22  shs@douglascollege.ca   \n",
              "\n",
              "                        Name  \\\n",
              "0  Students Helping Students   \n",
              "\n",
              "  Please input the date of interaction with student  \\\n",
              "0                                        2021-01-04   \n",
              "\n",
              "  Please select the appropriate time period of your first interaction  \\\n",
              "0                                      07:30 - 08:00                    \n",
              "\n",
              "  Please select the appropriate Task Category or type it in the Other section  \n",
              "0                                  Blackboard Issues                           "
            ]
          },
          "execution_count": 2,
          "metadata": {},
          "output_type": "execute_result"
        }
      ],
      "source": [
        "df_Raw0 = pd.read_excel(\"1_rawData/Daily Stats Entry Form.xlsx\", index_col=False);\n",
        "# df_Raw0[0:1]\n",
        "df_Raw0[0:1][df_Raw0.columns.tolist()[:-1]]"
      ]
    },
    {
      "cell_type": "markdown",
      "metadata": {
        "id": "6RtqyTFKi4uW"
      },
      "source": [
        "**Import data file: \"Daily Stats Entry Form 1.xlsx\"**\n",
        "\n",
        "> This data file contains SHS Statistics data for Winter 2021 and early Summer 2021\n",
        "\n"
      ]
    },
    {
      "cell_type": "code",
      "execution_count": 3,
      "metadata": {
        "colab": {
          "base_uri": "https://localhost:8080/",
          "height": 358,
          "resources": {
            "http://localhost:8080/nbextensions/google.colab/files.js": {
              "data": "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",
              "headers": [
                [
                  "content-type",
                  "application/javascript"
                ]
              ],
              "ok": true,
              "status": 200,
              "status_text": ""
            }
          }
        },
        "id": "3rOB_kx4Dy7l",
        "outputId": "93fc79e2-4618-427b-de0a-a84d7d46c5d3"
      },
      "outputs": [
        {
          "data": {
            "text/html": [
              "<div>\n",
              "<style scoped>\n",
              "    .dataframe tbody tr th:only-of-type {\n",
              "        vertical-align: middle;\n",
              "    }\n",
              "\n",
              "    .dataframe tbody tr th {\n",
              "        vertical-align: top;\n",
              "    }\n",
              "\n",
              "    .dataframe thead th {\n",
              "        text-align: right;\n",
              "    }\n",
              "</style>\n",
              "<table border=\"1\" class=\"dataframe\">\n",
              "  <thead>\n",
              "    <tr style=\"text-align: right;\">\n",
              "      <th></th>\n",
              "      <th>ID</th>\n",
              "      <th>Start time</th>\n",
              "      <th>Completion time</th>\n",
              "      <th>Email</th>\n",
              "      <th>Name</th>\n",
              "      <th>Please input the date of interaction with student</th>\n",
              "      <th>Please select the appropriate time period of your first interaction</th>\n",
              "      <th>Please select the appropriate Task Category or type it in the Other section</th>\n",
              "      <th>Is it Escalated to SD?</th>\n",
              "    </tr>\n",
              "  </thead>\n",
              "  <tbody>\n",
              "    <tr>\n",
              "      <th>0</th>\n",
              "      <td>1</td>\n",
              "      <td>2021-01-14 08:30:05</td>\n",
              "      <td>2021-01-14 08:30:22</td>\n",
              "      <td>shs@douglascollege.ca</td>\n",
              "      <td>Students Helping Students</td>\n",
              "      <td>2021-01-04</td>\n",
              "      <td>07:30 - 08:00</td>\n",
              "      <td>Blackboard Issues</td>\n",
              "      <td>NaN</td>\n",
              "    </tr>\n",
              "  </tbody>\n",
              "</table>\n",
              "</div>"
            ],
            "text/plain": [
              "   ID          Start time     Completion time                  Email  \\\n",
              "0   1 2021-01-14 08:30:05 2021-01-14 08:30:22  shs@douglascollege.ca   \n",
              "\n",
              "                        Name  \\\n",
              "0  Students Helping Students   \n",
              "\n",
              "  Please input the date of interaction with student  \\\n",
              "0                                        2021-01-04   \n",
              "\n",
              "  Please select the appropriate time period of your first interaction  \\\n",
              "0                                      07:30 - 08:00                    \n",
              "\n",
              "  Please select the appropriate Task Category or type it in the Other section  \\\n",
              "0                                  Blackboard Issues                            \n",
              "\n",
              "  Is it Escalated to SD?  \n",
              "0                    NaN  "
            ]
          },
          "execution_count": 3,
          "metadata": {},
          "output_type": "execute_result"
        }
      ],
      "source": [
        "df_Raw1 = pd.read_excel(\"1_rawData/Daily Stats Entry Form 1.xlsx\", index_col=False);\n",
        "df_Raw1 = df_Raw1.rename(columns={\n",
        "    \"Please input the Date of interaction with the Student\":\"Please input the date of interaction with student\",\n",
        "    \"Please enter the source as the email address of Student (ex. xxx@student.douglascollege.ca)\":\"Please enter the source as the email address of Student (ex. murat@student.douglascollege.ca)\"\n",
        "    });\n",
        "# df_Raw1[0:1]\n",
        "df_Raw1[0:1][[\n",
        "    \"ID\",\n",
        "    \"Start time\",\n",
        "    \"Completion time\",\n",
        "    \"Email\",\n",
        "    \"Name\",\n",
        "    \"Please input the date of interaction with student\",\n",
        "    \"Please select the appropriate time period of your first interaction\",\n",
        "    \"Please select the appropriate Task Category or type it in the Other section\",\n",
        "    \"Is it Escalated to SD?\"\n",
        "]]"
      ]
    },
    {
      "cell_type": "markdown",
      "metadata": {
        "id": "unVt-nzbkeZq"
      },
      "source": [
        "**Import data file: \"Daily Stats Entry Form Updated 2021.xlsx\"**\n",
        "\n",
        "> This data file contains SHS Statistics data for Summer 2021 and Fall 2021\n",
        "\n"
      ]
    },
    {
      "cell_type": "code",
      "execution_count": 4,
      "metadata": {
        "colab": {
          "base_uri": "https://localhost:8080/",
          "height": 251,
          "resources": {
            "http://localhost:8080/nbextensions/google.colab/files.js": {
              "data": "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",
              "headers": [
                [
                  "content-type",
                  "application/javascript"
                ]
              ],
              "ok": true,
              "status": 200,
              "status_text": ""
            }
          }
        },
        "id": "HiJOkOUcEJQg",
        "outputId": "2823eb43-463a-41d2-fd73-68a16110471e"
      },
      "outputs": [
        {
          "data": {
            "text/html": [
              "<div>\n",
              "<style scoped>\n",
              "    .dataframe tbody tr th:only-of-type {\n",
              "        vertical-align: middle;\n",
              "    }\n",
              "\n",
              "    .dataframe tbody tr th {\n",
              "        vertical-align: top;\n",
              "    }\n",
              "\n",
              "    .dataframe thead th {\n",
              "        text-align: right;\n",
              "    }\n",
              "</style>\n",
              "<table border=\"1\" class=\"dataframe\">\n",
              "  <thead>\n",
              "    <tr style=\"text-align: right;\">\n",
              "      <th></th>\n",
              "      <th>Please input the Date of interaction with the Student</th>\n",
              "      <th>Please select the appropriate time period of your first interaction</th>\n",
              "      <th>Please select the appropriate Task Category or type it in the Other section</th>\n",
              "      <th>Is it Escalated to SD?</th>\n",
              "    </tr>\n",
              "  </thead>\n",
              "  <tbody>\n",
              "    <tr>\n",
              "      <th>0</th>\n",
              "      <td>2021-07-02</td>\n",
              "      <td>20:00 - 20:30</td>\n",
              "      <td>Password Portal</td>\n",
              "      <td>No</td>\n",
              "    </tr>\n",
              "  </tbody>\n",
              "</table>\n",
              "</div>"
            ],
            "text/plain": [
              "  Please input the Date of interaction with the Student  \\\n",
              "0                                         2021-07-02      \n",
              "\n",
              "  Please select the appropriate time period of your first interaction  \\\n",
              "0                                      20:00 - 20:30                    \n",
              "\n",
              "  Please select the appropriate Task Category or type it in the Other section  \\\n",
              "0                                    Password Portal                            \n",
              "\n",
              "  Is it Escalated to SD?  \n",
              "0                     No  "
            ]
          },
          "execution_count": 4,
          "metadata": {},
          "output_type": "execute_result"
        }
      ],
      "source": [
        "df_Raw2 = pd.read_excel(\"1_rawData/Daily Stats Entry Form Updated 2021.xlsx\", index_col=False);\n",
        "# df_Raw2[0:1]\n",
        "df_Raw2[0:1][df_Raw2.columns.tolist()[:-1]]"
      ]
    },
    {
      "cell_type": "markdown",
      "metadata": {
        "id": "byo5ycbV7eCz"
      },
      "source": [
        "# Data Cleaning"
      ]
    },
    {
      "cell_type": "markdown",
      "metadata": {
        "id": "MEA34r9dHpGq"
      },
      "source": [
        "**Data Cleaning of Pre-Summer 2021 data** \n",
        "> SHS statistics data from Winter 2021 to early Summer 2021"
      ]
    },
    {
      "cell_type": "markdown",
      "metadata": {},
      "source": [
        "Update column headings of dataframe"
      ]
    },
    {
      "cell_type": "code",
      "execution_count": 5,
      "metadata": {
        "id": "IR_JMDMfMWvO"
      },
      "outputs": [],
      "source": [
        "def updateColumns(dataframe_Raw):              \n",
        "  # Reference: https://pandas.pydata.org/docs/reference/api/pandas.DataFrame.rename.html\n",
        "  dataframe = dataframe_Raw.rename(columns={\"Please input the date of interaction with student\":\"Date\", \n",
        "                    \"Please select the appropriate time period of your first interaction\":\"Time Period\", \n",
        "                    \"Please select the appropriate Task Category or type it in the Other section\":\"Task Category\",\n",
        "                    \"Please enter the source as the email address of Student (ex. murat@student.douglascollege.ca)\":\"Student Contact\"\n",
        "                  });\n",
        "  dataframe[\"Date\"] = pd.to_datetime(dataframe[\"Date\"]);\n",
        "  dataframe[\"Start time\"] = pd.to_datetime(dataframe[\"Start time\"]);\n",
        "  dataframe[\"Completion time\"] = pd.to_datetime(dataframe[\"Completion time\"]);\n",
        "  return dataframe;"
      ]
    },
    {
      "cell_type": "code",
      "execution_count": 6,
      "metadata": {
        "colab": {
          "base_uri": "https://localhost:8080/",
          "height": 177
        },
        "id": "HE5BRsGZMzq4",
        "outputId": "cad09286-279f-4779-da54-3c2a38038dd7"
      },
      "outputs": [
        {
          "name": "stdout",
          "output_type": "stream",
          "text": [
            "Number of Rows: 385\n"
          ]
        },
        {
          "data": {
            "text/html": [
              "<div>\n",
              "<style scoped>\n",
              "    .dataframe tbody tr th:only-of-type {\n",
              "        vertical-align: middle;\n",
              "    }\n",
              "\n",
              "    .dataframe tbody tr th {\n",
              "        vertical-align: top;\n",
              "    }\n",
              "\n",
              "    .dataframe thead th {\n",
              "        text-align: right;\n",
              "    }\n",
              "</style>\n",
              "<table border=\"1\" class=\"dataframe\">\n",
              "  <thead>\n",
              "    <tr style=\"text-align: right;\">\n",
              "      <th></th>\n",
              "      <th>ID</th>\n",
              "      <th>Start time</th>\n",
              "      <th>Completion time</th>\n",
              "      <th>Email</th>\n",
              "      <th>Name</th>\n",
              "      <th>Date</th>\n",
              "      <th>Time Period</th>\n",
              "      <th>Task Category</th>\n",
              "    </tr>\n",
              "  </thead>\n",
              "  <tbody>\n",
              "    <tr>\n",
              "      <th>0</th>\n",
              "      <td>1</td>\n",
              "      <td>2021-01-14 08:30:05</td>\n",
              "      <td>2021-01-14 08:30:22</td>\n",
              "      <td>shs@douglascollege.ca</td>\n",
              "      <td>Students Helping Students</td>\n",
              "      <td>2021-01-04</td>\n",
              "      <td>07:30 - 08:00</td>\n",
              "      <td>Blackboard Issues</td>\n",
              "    </tr>\n",
              "  </tbody>\n",
              "</table>\n",
              "</div>"
            ],
            "text/plain": [
              "   ID          Start time     Completion time                  Email  \\\n",
              "0   1 2021-01-14 08:30:05 2021-01-14 08:30:22  shs@douglascollege.ca   \n",
              "\n",
              "                        Name       Date    Time Period      Task Category  \n",
              "0  Students Helping Students 2021-01-04  07:30 - 08:00  Blackboard Issues  "
            ]
          },
          "execution_count": 6,
          "metadata": {},
          "output_type": "execute_result"
        }
      ],
      "source": [
        "df_0 = updateColumns(df_Raw0);\n",
        "print(f\"Number of Rows: {len(df_0)}\");\n",
        "# df_0[0:1]\n",
        "df_0[0:1][df_0.columns.tolist()[:-1]]"
      ]
    },
    {
      "cell_type": "code",
      "execution_count": 7,
      "metadata": {
        "colab": {
          "base_uri": "https://localhost:8080/",
          "height": 211
        },
        "id": "R5jzyLKYT1xD",
        "outputId": "a1816635-765d-4f62-9aae-45425d479f51"
      },
      "outputs": [
        {
          "name": "stdout",
          "output_type": "stream",
          "text": [
            "Number of Rows: 587\n"
          ]
        },
        {
          "data": {
            "text/html": [
              "<div>\n",
              "<style scoped>\n",
              "    .dataframe tbody tr th:only-of-type {\n",
              "        vertical-align: middle;\n",
              "    }\n",
              "\n",
              "    .dataframe tbody tr th {\n",
              "        vertical-align: top;\n",
              "    }\n",
              "\n",
              "    .dataframe thead th {\n",
              "        text-align: right;\n",
              "    }\n",
              "</style>\n",
              "<table border=\"1\" class=\"dataframe\">\n",
              "  <thead>\n",
              "    <tr style=\"text-align: right;\">\n",
              "      <th></th>\n",
              "      <th>ID</th>\n",
              "      <th>Start time</th>\n",
              "      <th>Completion time</th>\n",
              "      <th>Email</th>\n",
              "      <th>Name</th>\n",
              "      <th>Date</th>\n",
              "      <th>Time Period</th>\n",
              "      <th>Task Category</th>\n",
              "      <th>Is it Escalated to SD?</th>\n",
              "    </tr>\n",
              "  </thead>\n",
              "  <tbody>\n",
              "    <tr>\n",
              "      <th>0</th>\n",
              "      <td>1</td>\n",
              "      <td>2021-01-14 08:30:05</td>\n",
              "      <td>2021-01-14 08:30:22</td>\n",
              "      <td>shs@douglascollege.ca</td>\n",
              "      <td>Students Helping Students</td>\n",
              "      <td>2021-01-04</td>\n",
              "      <td>07:30 - 08:00</td>\n",
              "      <td>Blackboard Issues</td>\n",
              "      <td>NaN</td>\n",
              "    </tr>\n",
              "  </tbody>\n",
              "</table>\n",
              "</div>"
            ],
            "text/plain": [
              "   ID          Start time     Completion time                  Email  \\\n",
              "0   1 2021-01-14 08:30:05 2021-01-14 08:30:22  shs@douglascollege.ca   \n",
              "\n",
              "                        Name       Date    Time Period      Task Category  \\\n",
              "0  Students Helping Students 2021-01-04  07:30 - 08:00  Blackboard Issues   \n",
              "\n",
              "  Is it Escalated to SD?  \n",
              "0                    NaN  "
            ]
          },
          "execution_count": 7,
          "metadata": {},
          "output_type": "execute_result"
        }
      ],
      "source": [
        "df_1 = updateColumns(df_Raw1);\n",
        "df_1 = df_1[[\"ID\",\"Start time\",\"Completion time\",\"Email\",\"Name\",\"Date\",\"Time Period\",\"Task Category\",\"Student Contact\",\"Is it Escalated to SD?\"]];\n",
        "print(f\"Number of Rows: {len(df_1)}\");\n",
        "# df_1[0:1]\n",
        "df_1[0:1][[\n",
        "    \"ID\",\n",
        "    \"Start time\",\n",
        "    \"Completion time\",\n",
        "    \"Email\",\n",
        "    \"Name\",\n",
        "    \"Date\",\n",
        "    \"Time Period\",\n",
        "    \"Task Category\",\n",
        "    \"Is it Escalated to SD?\"\n",
        "]]"
      ]
    },
    {
      "cell_type": "markdown",
      "metadata": {},
      "source": [
        "Perform high level data cleaning and manipulation"
      ]
    },
    {
      "cell_type": "code",
      "execution_count": 8,
      "metadata": {
        "id": "pMefnOWqTsA-"
      },
      "outputs": [],
      "source": [
        "# Reference: \n",
        "# - https://pandas.pydata.org/pandas-docs/stable/user_guide/merging.html\n",
        "# - https://pandas.pydata.org/docs/reference/api/pandas.DataFrame.drop_duplicates.html\n",
        "# - https://pandas.pydata.org/docs/reference/api/pandas.DataFrame.reset_index.html#pandas.DataFrame.reset_index\n",
        "\n",
        "df_temp = pd.concat([df_0, df_1], ignore_index=True);\n",
        "# df_temp = df_temp.sort_values([\"Start time\",\"Completion time\"], ascending=True);\n",
        "df_temp = df_temp.sort_values([\"Date\",\"Time Period\"], ascending=True);\n",
        "df_temp = df_temp.drop_duplicates(keep=\"last\");\n",
        "df_temp = df_temp.reset_index();\n",
        "for i in df_temp.index:\n",
        "  if (df_temp.loc[i, \"Is it Escalated to SD?\"] != \"Yes\") & (df_temp.loc[i, \"Is it Escalated to SD?\"] != \"No\"):\n",
        "    df_temp.loc[i, \"Is it Escalated to SD?\"] = \"No\";\n",
        "df_temp = df_temp[df_temp.columns.tolist()[6:]];\n",
        "df_temp = df_temp.rename(columns={\"Time Period\":\"Time Range\", \"Is it Escalated to SD?\":\"Escalated to SD?\"});\n",
        "df_temp[\"Description\"] = df_temp[\"Task Category\"];\n",
        "df_temp = df_temp[[\"Date\",\"Time Range\",\"Task Category\",\"Escalated to SD?\",\"Student Contact\",\"Description\"]];"
      ]
    },
    {
      "cell_type": "markdown",
      "metadata": {},
      "source": [
        "Clean the Task Category column"
      ]
    },
    {
      "cell_type": "code",
      "execution_count": 9,
      "metadata": {
        "colab": {
          "base_uri": "https://localhost:8080/"
        },
        "id": "5bXoRqp5Bne2",
        "outputId": "51e0ad33-8d0f-452b-9ece-0624ab565140"
      },
      "outputs": [
        {
          "data": {
            "text/plain": [
              "['Academic Advising',\n",
              " 'Blackboard Issues',\n",
              " 'MyAccount Issues',\n",
              " 'Zoom Help',\n",
              " 'Bookstore',\n",
              " 'CNA/Login Issues',\n",
              " 'Others',\n",
              " 'Enrollment Service',\n",
              " 'Microsoft 365 Issues',\n",
              " 'Library and Learning Centre',\n",
              " 'Citrix',\n",
              " 'Lockdown Browser',\n",
              " 'Kaltura',\n",
              " 'Douglas College International',\n",
              " 'Printing']"
            ]
          },
          "execution_count": 9,
          "metadata": {},
          "output_type": "execute_result"
        }
      ],
      "source": [
        "for i in df_temp.index:\n",
        "  # ************************* Zoom Help *************************\n",
        "  if df_temp.loc[i, \"Task Category\"] == \"Zoom Troubleshooting\":\n",
        "    df_temp.loc[i, \"Task Category\"] = \"Zoom Help\";\n",
        "  \n",
        "  if df_temp.loc[i, \"Task Category\"] == \"Zoom Issue\":\n",
        "    df_temp.loc[i, \"Task Category\"] = \"Zoom Help\";\n",
        "  \n",
        "  if df_temp.loc[i, \"Task Category\"] == \"Chrome PDF Plugin issue through Zoom\":\n",
        "    df_temp.loc[i, \"Task Category\"] = \"Zoom Help\";\n",
        "  \n",
        "  if df_temp.loc[i, \"Task Category\"] == \"Troubleshoot Zoom\":\n",
        "    df_temp.loc[i, \"Task Category\"] = \"Zoom Help\";\n",
        "  \n",
        "  if df_temp.loc[i, \"Task Category\"] == \"Troubleshoot zoom\":\n",
        "    df_temp.loc[i, \"Task Category\"] = \"Zoom Help\";\n",
        "  \n",
        "  # ************************* Others *************************\n",
        "  if df_temp.loc[i, \"Task Category\"] == \"Laptop Recommendation\":\n",
        "    df_temp.loc[i, \"Task Category\"] = \"Others\";\n",
        "  \n",
        "  if df_temp.loc[i, \"Task Category\"] == \"File Extension Question\":\n",
        "    df_temp.loc[i, \"Task Category\"] = \"Others\";\n",
        "  \n",
        "  if df_temp.loc[i, \"Task Category\"] == \"microphone problem\":\n",
        "    df_temp.loc[i, \"Task Category\"] = \"Others\";\n",
        "  \n",
        "  if df_temp.loc[i, \"Task Category\"] == \"black screen\":\n",
        "    df_temp.loc[i, \"Task Category\"] = \"Others\";\n",
        "  \n",
        "  if df_temp.loc[i, \"Task Category\"] == \"Android Studio\":\n",
        "    df_temp.loc[i, \"Task Category\"] = \"Others\";\n",
        "  \n",
        "  if df_temp.loc[i, \"Task Category\"] == \"Consent Form Issue\":\n",
        "    df_temp.loc[i, \"Task Category\"] = \"Others\";\n",
        "  \n",
        "  if df_temp.loc[i, \"Task Category\"] == \"Uploading video to laptop\":\n",
        "    df_temp.loc[i, \"Task Category\"] = \"Others\";\n",
        "  \n",
        "  if df_temp.loc[i, \"Task Category\"] == \"File association/unable to open\":\n",
        "    df_temp.loc[i, \"Task Category\"] = \"Others\";\n",
        "  \n",
        "  if df_temp.loc[i, \"Task Category\"] == \"microphone\":\n",
        "    df_temp.loc[i, \"Task Category\"] = \"Others\";\n",
        "  \n",
        "  if df_temp.loc[i, \"Task Category\"] == \"Having trouble adding a pdf to a report\":\n",
        "    df_temp.loc[i, \"Task Category\"] = \"Others\";\n",
        "  \n",
        "  if df_temp.loc[i, \"Task Category\"] == \"DS App\":\n",
        "    df_temp.loc[i, \"Task Category\"] = \"Others\";\n",
        "  \n",
        "  if df_temp.loc[i, \"Task Category\"] == \"Douglas College Mobile apps\":\n",
        "    df_temp.loc[i, \"Task Category\"] = \"Others\";\n",
        "  \n",
        "  if df_temp.loc[i, \"Task Category\"] == \"Looking for Windows license key\":\n",
        "    df_temp.loc[i, \"Task Category\"] = \"Others\";\n",
        "  \n",
        "  if df_temp.loc[i, \"Task Category\"] == \"Rotating a photo in a pdf\":\n",
        "    df_temp.loc[i, \"Task Category\"] = \"Others\";\n",
        "  \n",
        "  if df_temp.loc[i, \"Task Category\"] == \"Google Docs\":\n",
        "    df_temp.loc[i, \"Task Category\"] = \"Others\";\n",
        "  \n",
        "  if df_temp.loc[i, \"Task Category\"] == \"Chrome PDF plugin issue\":\n",
        "    df_temp.loc[i, \"Task Category\"] = \"Others\";\n",
        "  \n",
        "  if df_temp.loc[i, \"Task Category\"] == \"Laptop decision \":\n",
        "    df_temp.loc[i, \"Task Category\"] = \"Others\";\n",
        "  \n",
        "  if df_temp.loc[i, \"Task Category\"] == \"Douglas Website\":\n",
        "    df_temp.loc[i, \"Task Category\"] = \"Others\";\n",
        "  \n",
        "  if df_temp.loc[i, \"Task Category\"] == \"Windows Language Settings\":\n",
        "    df_temp.loc[i, \"Task Category\"] = \"Others\";\n",
        "  \n",
        "  if df_temp.loc[i, \"Task Category\"] == \"student whatsapp group advice\":\n",
        "    df_temp.loc[i, \"Task Category\"] = \"Others\";\n",
        "  \n",
        "  if df_temp.loc[i, \"Task Category\"] == \"Basic Technical Assistance\":\n",
        "    df_temp.loc[i, \"Task Category\"] = \"Others\";\n",
        "  \n",
        "  if df_temp.loc[i, \"Task Category\"] == \"basic technical assistance\":\n",
        "    df_temp.loc[i, \"Task Category\"] = \"Others\";\n",
        "  \n",
        "  if df_temp.loc[i, \"Task Category\"] == \"Hardware recommendation for online classes\":\n",
        "    df_temp.loc[i, \"Task Category\"] = \"Others\";\n",
        "  \n",
        "  if df_temp.loc[i, \"Task Category\"] == \"hardware/software advice seeking\":\n",
        "    df_temp.loc[i, \"Task Category\"] = \"Others\";\n",
        "  \n",
        "  if df_temp.loc[i, \"Task Category\"] == \"carson.schumann8@gmail.com\":\n",
        "    df_temp.loc[i, \"Task Category\"] = \"Others\";\n",
        "  \n",
        "  if df_temp.loc[i, \"Task Category\"] == \"Issue with Adobe Acrobat Reader\":\n",
        "    df_temp.loc[i, \"Task Category\"] = \"Others\";\n",
        "  \n",
        "  if df_temp.loc[i, \"Task Category\"] == \"Can't reach college website\":\n",
        "    df_temp.loc[i, \"Task Category\"] = \"Others\";\n",
        "  \n",
        "  if df_temp.loc[i, \"Task Category\"] == \"college website access\":\n",
        "    df_temp.loc[i, \"Task Category\"] = \"Others\";\n",
        "  \n",
        "  if df_temp.loc[i, \"Task Category\"] == \"PDF issue\":\n",
        "    df_temp.loc[i, \"Task Category\"] = \"Others\";\n",
        "  \n",
        "  if df_temp.loc[i, \"Task Category\"] == \"can't load college website\":\n",
        "    df_temp.loc[i, \"Task Category\"] = \"Others\";\n",
        "  \n",
        "  if df_temp.loc[i, \"Task Category\"] == \"Douglas website issue\":\n",
        "    df_temp.loc[i, \"Task Category\"] = \"Others\";\n",
        "  \n",
        "  if df_temp.loc[i, \"Task Category\"] == \"Basic Technical Assistance\":\n",
        "    df_temp.loc[i, \"Task Category\"] = \"Others\";\n",
        "  \n",
        "  if df_temp.loc[i, \"Task Category\"] == \"website not loading/issue solved itself\":\n",
        "    df_temp.loc[i, \"Task Category\"] = \"Others\";\n",
        "  \n",
        "  if df_temp.loc[i, \"Task Category\"] == \"Basic Technical assistance\":\n",
        "    df_temp.loc[i, \"Task Category\"] = \"Others\";\n",
        "  \n",
        "  if df_temp.loc[i, \"Task Category\"] == \"student whatsapp group advise \":\n",
        "    df_temp.loc[i, \"Task Category\"] = \"Others\";\n",
        "\n",
        "  if df_temp.loc[i, \"Task Category\"] == \"Website\":\n",
        "    df_temp.loc[i, \"Task Category\"] = \"Others\";\n",
        "  \n",
        "  # ************************* Bookstore *************************\n",
        "  if df_temp.loc[i, \"Task Category\"] == \"Textbook Recommendation\":\n",
        "    df_temp.loc[i, \"Task Category\"] = \"Bookstore\";\n",
        "  \n",
        "  if df_temp.loc[i, \"Task Category\"] == \"Coursebook material access\":\n",
        "    df_temp.loc[i, \"Task Category\"] = \"Bookstore\";\n",
        "  \n",
        "  if df_temp.loc[i, \"Task Category\"] == \"Coursepack issue\":\n",
        "    df_temp.loc[i, \"Task Category\"] = \"Bookstore\";\n",
        "  \n",
        "  if df_temp.loc[i, \"Task Category\"] == \"Adobe Coursepack\":\n",
        "    df_temp.loc[i, \"Task Category\"] = \"Bookstore\";\n",
        "  \n",
        "  # ************************* Library and Learning Centre *************************\n",
        "  if df_temp.loc[i, \"Task Category\"] == \"Computer Lab Availability\":\n",
        "    df_temp.loc[i, \"Task Category\"] = \"Library and Learning Centre\";\n",
        "  \n",
        "  # ************************* Lockdown Browser *************************\n",
        "  if df_temp.loc[i, \"Task Category\"] == \"Lockdown download\":\n",
        "    df_temp.loc[i, \"Task Category\"] = \"Lockdown Browser\";\n",
        "  \n",
        "  if df_temp.loc[i, \"Task Category\"] == \"Zoom and Lockdown Browser issue\":\n",
        "    df_temp.loc[i, \"Task Category\"] = \"Lockdown Browser\";\n",
        "  \n",
        "  if df_temp.loc[i, \"Task Category\"] == \"Zoom and Lockdown browser Session issue\":\n",
        "    df_temp.loc[i, \"Task Category\"] = \"Lockdown Browser\";\n",
        "  \n",
        "  # ************************* Microsoft 365 Issues *************************\n",
        "  if df_temp.loc[i, \"Task Category\"] == \"OneNote Collab\":\n",
        "    df_temp.loc[i, \"Task Category\"] = \"Microsoft 365 Issues\";\n",
        "  \n",
        "  if df_temp.loc[i, \"Task Category\"] == \"Word to PDF conversion\":\n",
        "    df_temp.loc[i, \"Task Category\"] = \"Microsoft 365 Issues\";\n",
        "  \n",
        "  if df_temp.loc[i, \"Task Category\"] == \"Microsoft Office issues\":\n",
        "    df_temp.loc[i, \"Task Category\"] = \"Microsoft 365 Issues\";\n",
        "  \n",
        "  if df_temp.loc[i, \"Task Category\"] == \"Microsoft Excel Issue\":\n",
        "    df_temp.loc[i, \"Task Category\"] = \"Microsoft 365 Issues\";\n",
        "  \n",
        "  if df_temp.loc[i, \"Task Category\"] == \"Azure Issue\":\n",
        "    df_temp.loc[i, \"Task Category\"] = \"Microsoft 365 Issues\";\n",
        "\n",
        "  if df_temp.loc[i, \"Task Category\"] == \"Microsoft Azure account restricted\":\n",
        "    df_temp.loc[i, \"Task Category\"] = \"Microsoft 365 Issues\";\n",
        "  \n",
        "  if df_temp.loc[i, \"Task Category\"] == \"Microsoft Azure\":\n",
        "    df_temp.loc[i, \"Task Category\"] = \"Microsoft 365 Issues\";\n",
        "  \n",
        "  if df_temp.loc[i, \"Task Category\"] == \"Microsoft Word issue\":\n",
        "    df_temp.loc[i, \"Task Category\"] = \"Microsoft 365 Issues\";\n",
        "  \n",
        "  if df_temp.loc[i, \"Task Category\"] == \"Need help in making a powerpoint YouTube video\":\n",
        "    df_temp.loc[i, \"Task Category\"] = \"Microsoft 365 Issues\";\n",
        "  \n",
        "  if df_temp.loc[i, \"Task Category\"] == \"Word Issue\":\n",
        "    df_temp.loc[i, \"Task Category\"] = \"Microsoft 365 Issues\";\n",
        "  \n",
        "  if df_temp.loc[i, \"Task Category\"] == \"Issue with Microsoft Powerpoint\":\n",
        "    df_temp.loc[i, \"Task Category\"] = \"Microsoft 365 Issues\";\n",
        "  \n",
        "  if df_temp.loc[i, \"Task Category\"] == \"Issue with Powerpoint\":\n",
        "    df_temp.loc[i, \"Task Category\"] = \"Microsoft 365 Issues\";\n",
        "\n",
        "  # ************************* Blackboard Issues *************************\n",
        "  if df_temp.loc[i, \"Task Category\"] == \"Assignment Submission Issue\":\n",
        "    df_temp.loc[i, \"Task Category\"] = \"Blackboard Issues\";\n",
        "  \n",
        "  if df_temp.loc[i, \"Task Category\"] == \"Having trouble completing the AIE module\":\n",
        "    df_temp.loc[i, \"Task Category\"] = \"Blackboard Issues\";\n",
        "  \n",
        "  if df_temp.loc[i, \"Task Category\"] == \"Learn Blackboard\":\n",
        "    df_temp.loc[i, \"Task Category\"] = \"Blackboard Issues\";\n",
        "  \n",
        "  if df_temp.loc[i, \"Task Category\"] == \"Blackboard - General (Course content etc)\":\n",
        "    df_temp.loc[i, \"Task Category\"] = \"Blackboard Issues\";\n",
        "  \n",
        "  if df_temp.loc[i, \"Task Category\"] == \"Blackboard - Technical Assistance (audio/video)\":\n",
        "    df_temp.loc[i, \"Task Category\"] = \"Blackboard Issues\";\n",
        "  \n",
        "  if df_temp.loc[i, \"Task Category\"] == \"can't load videos on blackboard\":\n",
        "    df_temp.loc[i, \"Task Category\"] = \"Blackboard Issues\";\n",
        "  \n",
        "  # ************************* MyAccount Issues *************************\n",
        "  if df_temp.loc[i, \"Task Category\"] == \"tax forms\":\n",
        "    df_temp.loc[i, \"Task Category\"] = \"MyAccount Issues\";\n",
        "  \n",
        "  if df_temp.loc[i, \"Task Category\"] == \"Unofficial Transcript\":\n",
        "    df_temp.loc[i, \"Task Category\"] = \"MyAccount Issues\";\n",
        "  \n",
        "  if df_temp.loc[i, \"Task Category\"] == \"registering personal email in myaccount\":\n",
        "    df_temp.loc[i, \"Task Category\"] = \"MyAccount Issues\";\n",
        "  \n",
        "  if df_temp.loc[i, \"Task Category\"] == \"myaccount issue\":\n",
        "    df_temp.loc[i, \"Task Category\"] = \"MyAccount Issues\";\n",
        "  \n",
        "  if df_temp.loc[i, \"Task Category\"] == \"access to courses\":\n",
        "    df_temp.loc[i, \"Task Category\"] = \"MyAccount Issues\";\n",
        "  \n",
        "  if df_temp.loc[i, \"Task Category\"] == \"Mypath issue,Basic technical assistance\":\n",
        "    df_temp.loc[i, \"Task Category\"] = \"MyAccount Issues\";\n",
        "  \n",
        "  if df_temp.loc[i, \"Task Category\"] == \"logs out instantly after login to MyAccount\":\n",
        "    df_temp.loc[i, \"Task Category\"] = \"MyAccount Issues\";\n",
        "  \n",
        "  if df_temp.loc[i, \"Task Category\"] == \"MyAccount - Missing CNA Email\":\n",
        "    df_temp.loc[i, \"Task Category\"] = \"MyAccount Issues\";\n",
        "  \n",
        "  if df_temp.loc[i, \"Task Category\"] == \"MyAccount - Directed student to SSPR\":\n",
        "    df_temp.loc[i, \"Task Category\"] = \"MyAccount Issues\";\n",
        "  \n",
        "  if df_temp.loc[i, \"Task Category\"] == \"mypath issue\":\n",
        "    df_temp.loc[i, \"Task Category\"] = \"MyAccount Issues\";\n",
        "  \n",
        "  # ************************* Academic Advising *************************\n",
        "  if df_temp.loc[i, \"Task Category\"] == \"Graduation Details\":\n",
        "    df_temp.loc[i, \"Task Category\"] = \"Academic Advising\";\n",
        "  \n",
        "  if df_temp.loc[i, \"Task Category\"] == \"Graduation Application Issue\":\n",
        "    df_temp.loc[i, \"Task Category\"] = \"Academic Advising\";\n",
        "  \n",
        "  if df_temp.loc[i, \"Task Category\"] == \"Advising Services\":\n",
        "    df_temp.loc[i, \"Task Category\"] = \"Academic Advising\";\n",
        "  \n",
        "  if df_temp.loc[i, \"Task Category\"] == \"First Class Instruction\":\n",
        "    df_temp.loc[i, \"Task Category\"] = \"Academic Advising\";\n",
        "  \n",
        "  if df_temp.loc[i, \"Task Category\"] == \"First Class Instructions\":\n",
        "    df_temp.loc[i, \"Task Category\"] = \"Academic Advising\";\n",
        "  \n",
        "  if df_temp.loc[i, \"Task Category\"] == \"First Class issue\":\n",
        "    df_temp.loc[i, \"Task Category\"] = \"Academic Advising\";\n",
        "  \n",
        "  if df_temp.loc[i, \"Task Category\"] == \"First class issue\":\n",
        "    df_temp.loc[i, \"Task Category\"] = \"Academic Advising\";\n",
        "\n",
        "  # ************************* Printing *************************\n",
        "  if df_temp.loc[i, \"Task Category\"] == \"Digitalizing written documents\":\n",
        "    df_temp.loc[i, \"Task Category\"] = \"Printing\";\n",
        "  \n",
        "  # ************************* Enrollment Service *************************\n",
        "  if df_temp.loc[i, \"Task Category\"] == \"Summer semester dates\":\n",
        "    df_temp.loc[i, \"Task Category\"] = \"Enrollment Service\";\n",
        "  \n",
        "  if df_temp.loc[i, \"Task Category\"] == \"Orientation\":\n",
        "    df_temp.loc[i, \"Task Category\"] = \"Enrollment Service\";\n",
        "  \n",
        "  if df_temp.loc[i, \"Task Category\"] == \"Registration\":\n",
        "    df_temp.loc[i, \"Task Category\"] = \"Enrollment Service\";\n",
        "  \n",
        "  if df_temp.loc[i, \"Task Category\"] == \"Verification Of Enrollment Issue\":\n",
        "    df_temp.loc[i, \"Task Category\"] = \"Enrollment Service\";\n",
        "  \n",
        "  if df_temp.loc[i, \"Task Category\"] == \"Verification of Enrollment Issue\":\n",
        "    df_temp.loc[i, \"Task Category\"] = \"Enrollment Service\";\n",
        "  \n",
        "  # ************************* CNA/Login Issues *************************\n",
        "  if df_temp.loc[i, \"Task Category\"] == \"MyPath Login Issue\":\n",
        "    df_temp.loc[i, \"Task Category\"] = \"CNA/Login Issues\";\n",
        "  \n",
        "  if df_temp.loc[i, \"Task Category\"] == \"CNA Questions\":\n",
        "    df_temp.loc[i, \"Task Category\"] = \"CNA/Login Issues\";\n",
        "  \n",
        "  if df_temp.loc[i, \"Task Category\"] == \"Password Portal\":\n",
        "    df_temp.loc[i, \"Task Category\"] = \"CNA/Login Issues\";\n",
        "  \n",
        "  # ************************* Douglas College International *************************\n",
        "  if df_temp.loc[i, \"Task Category\"] == \"Working as an international student\":\n",
        "    df_temp.loc[i, \"Task Category\"] = \"Douglas College International\";\n",
        "  \n",
        "  if df_temp.loc[i, \"Task Category\"] == \"Regarding Medical Insurance\":\n",
        "    df_temp.loc[i, \"Task Category\"] = \"Douglas College International\";\n",
        "  \n",
        "  # ************************* Kaltura *************************\n",
        "  if df_temp.loc[i, \"Task Category\"] == \"Kaltura issue\":\n",
        "    df_temp.loc[i, \"Task Category\"] = \"Kaltura\";\n",
        "  \n",
        "  if df_temp.loc[i, \"Task Category\"] == \"Kaltura Issue\":\n",
        "    df_temp.loc[i, \"Task Category\"] = \"Kaltura\";\n",
        "  \n",
        "  if df_temp.loc[i, \"Task Category\"] == \"Kaltura Media Upload\":\n",
        "    df_temp.loc[i, \"Task Category\"] = \"Kaltura\";\n",
        "  \n",
        "  # ************************* Citrix *************************\n",
        "  if df_temp.loc[i, \"Task Category\"] == \"Sage 50\":\n",
        "    df_temp.loc[i, \"Task Category\"] = \"Citrix\";\n",
        "\n",
        "df_temp[\"Task Category\"].unique().tolist()"
      ]
    },
    {
      "cell_type": "markdown",
      "metadata": {},
      "source": [
        "Ouptut of cleaned dataframe of Pre-Summer 2021 SHS Statistics data"
      ]
    },
    {
      "cell_type": "code",
      "execution_count": 10,
      "metadata": {
        "colab": {
          "base_uri": "https://localhost:8080/",
          "height": 81
        },
        "id": "y8PYYofbsZCo",
        "outputId": "eed29d71-4516-4bb9-b351-490473203472"
      },
      "outputs": [
        {
          "data": {
            "text/html": [
              "<div>\n",
              "<style scoped>\n",
              "    .dataframe tbody tr th:only-of-type {\n",
              "        vertical-align: middle;\n",
              "    }\n",
              "\n",
              "    .dataframe tbody tr th {\n",
              "        vertical-align: top;\n",
              "    }\n",
              "\n",
              "    .dataframe thead th {\n",
              "        text-align: right;\n",
              "    }\n",
              "</style>\n",
              "<table border=\"1\" class=\"dataframe\">\n",
              "  <thead>\n",
              "    <tr style=\"text-align: right;\">\n",
              "      <th></th>\n",
              "      <th>Date</th>\n",
              "      <th>Time Range</th>\n",
              "      <th>Task Category</th>\n",
              "      <th>Escalated to SD?</th>\n",
              "      <th>Description</th>\n",
              "    </tr>\n",
              "  </thead>\n",
              "  <tbody>\n",
              "    <tr>\n",
              "      <th>0</th>\n",
              "      <td>2021-01-04</td>\n",
              "      <td>07:00 - 07:30</td>\n",
              "      <td>Academic Advising</td>\n",
              "      <td>No</td>\n",
              "      <td>Academic Advising</td>\n",
              "    </tr>\n",
              "  </tbody>\n",
              "</table>\n",
              "</div>"
            ],
            "text/plain": [
              "        Date     Time Range      Task Category Escalated to SD?  \\\n",
              "0 2021-01-04  07:00 - 07:30  Academic Advising               No   \n",
              "\n",
              "         Description  \n",
              "0  Academic Advising  "
            ]
          },
          "execution_count": 10,
          "metadata": {},
          "output_type": "execute_result"
        }
      ],
      "source": [
        "# df_temp[0:1]\n",
        "df_temp[0:1][[\n",
        "    \"Date\",\n",
        "    \"Time Range\",\n",
        "    \"Task Category\",\n",
        "    \"Escalated to SD?\",\n",
        "    \"Description\"\n",
        "]]"
      ]
    },
    {
      "cell_type": "markdown",
      "metadata": {
        "id": "Fzufo-OYIKl7"
      },
      "source": [
        "**Data Cleaning of Post-Winter 2021 data**\n",
        "> SHS statistics data from Summer 2021 to Fall 2021"
      ]
    },
    {
      "cell_type": "markdown",
      "metadata": {},
      "source": [
        "Update column headings of the dataframe"
      ]
    },
    {
      "cell_type": "code",
      "execution_count": 11,
      "metadata": {
        "colab": {
          "base_uri": "https://localhost:8080/",
          "height": 98
        },
        "id": "DfkX1Ik0tDwI",
        "outputId": "be22b80a-9e2b-4b5b-b30c-9c4b1353d4f0"
      },
      "outputs": [
        {
          "name": "stdout",
          "output_type": "stream",
          "text": [
            "Number of Rows: 595\n"
          ]
        },
        {
          "data": {
            "text/html": [
              "<div>\n",
              "<style scoped>\n",
              "    .dataframe tbody tr th:only-of-type {\n",
              "        vertical-align: middle;\n",
              "    }\n",
              "\n",
              "    .dataframe tbody tr th {\n",
              "        vertical-align: top;\n",
              "    }\n",
              "\n",
              "    .dataframe thead th {\n",
              "        text-align: right;\n",
              "    }\n",
              "</style>\n",
              "<table border=\"1\" class=\"dataframe\">\n",
              "  <thead>\n",
              "    <tr style=\"text-align: right;\">\n",
              "      <th></th>\n",
              "      <th>Date</th>\n",
              "      <th>Time Range</th>\n",
              "      <th>Task Category</th>\n",
              "      <th>Escalated to SD?</th>\n",
              "      <th>Description</th>\n",
              "    </tr>\n",
              "  </thead>\n",
              "  <tbody>\n",
              "    <tr>\n",
              "      <th>82</th>\n",
              "      <td>2021-06-28</td>\n",
              "      <td>07:00 - 07:30</td>\n",
              "      <td>Hardware Issue</td>\n",
              "      <td>No</td>\n",
              "      <td>Hardware Issue</td>\n",
              "    </tr>\n",
              "  </tbody>\n",
              "</table>\n",
              "</div>"
            ],
            "text/plain": [
              "         Date     Time Range   Task Category Escalated to SD?     Description\n",
              "82 2021-06-28  07:00 - 07:30  Hardware Issue               No  Hardware Issue"
            ]
          },
          "execution_count": 11,
          "metadata": {},
          "output_type": "execute_result"
        }
      ],
      "source": [
        "df_2 = df_Raw2.copy();\n",
        "df_2 = df_2.rename(columns={\"Please input the Date of interaction with the Student\":\"Date\", \n",
        "                            \"Please select the appropriate time period of your first interaction\":\"Time Range\", \n",
        "                            \"Please select the appropriate Task Category or type it in the Other section\":\"Task Category\",\n",
        "                            \"Is it Escalated to SD?\":\"Escalated to SD?\",\n",
        "                            \"    Please enter the source as the email address of Student (ex. xxx@student.douglascollege.ca)\":\"Student Contact\"});\n",
        "df_2[\"Date\"] = pd.to_datetime(df_2[\"Date\"]);\n",
        "df_2[\"Description\"] = df_2[\"Task Category\"];\n",
        "df_2 = df_2.sort_values([\"Date\",\"Time Range\"], ascending=True);\n",
        "print(f\"Number of Rows: {len(df_2)}\");\n",
        "# df_2[0:1]\n",
        "df_2[0:1][[\n",
        "    \"Date\",\n",
        "    \"Time Range\",\n",
        "    \"Task Category\",\n",
        "    \"Escalated to SD?\",\n",
        "    \"Description\"\n",
        "]]"
      ]
    },
    {
      "cell_type": "markdown",
      "metadata": {},
      "source": [
        "Clean the Time Range column"
      ]
    },
    {
      "cell_type": "code",
      "execution_count": 12,
      "metadata": {
        "colab": {
          "base_uri": "https://localhost:8080/"
        },
        "id": "pqDOUb_KxuAp",
        "outputId": "cce5e851-a741-44ef-bb94-8112351499e0"
      },
      "outputs": [
        {
          "data": {
            "text/plain": [
              "['07:00 - 07:30',\n",
              " '09:00 - 09:30',\n",
              " '20:00 - 20:30',\n",
              " '08:00 - 08:30',\n",
              " '08:30 - 09:00',\n",
              " '11:30 - 12:00',\n",
              " '15:30 - 16:00',\n",
              " '16:30 - 17:00',\n",
              " '17:30 - 18:00',\n",
              " '12:30 - 13:00',\n",
              " '14:30 - 15:00',\n",
              " '10:30 - 11:00',\n",
              " '13:00 - 13:30',\n",
              " '18:00 - 18:30',\n",
              " '07:30 - 08:00',\n",
              " '09:30 - 10:00',\n",
              " '15:00 - 15:30',\n",
              " '10:00 - 10:30',\n",
              " '11:00 - 11:30',\n",
              " '19:30 - 20:00',\n",
              " '12:00 - 12:30',\n",
              " '18:30 - 19:00',\n",
              " '14:00 - 14:30',\n",
              " '20:30 - 21:00',\n",
              " '17:00 - 17:30',\n",
              " '13:30 - 14:00',\n",
              " '19:00 - 19:30',\n",
              " '16:00 - 16:30']"
            ]
          },
          "execution_count": 12,
          "metadata": {},
          "output_type": "execute_result"
        }
      ],
      "source": [
        "for i in df_2.index:\n",
        "  if df_2.loc[i, \"Time Range\"] == \"8:30 - 9:00\":\n",
        "    df_2.loc[i, \"Time Range\"] = \"08:30 - 09:00\";\n",
        "  \n",
        "  if df_2.loc[i, \"Time Range\"] == \"07:00 - 7:30\":\n",
        "    df_2.loc[i, \"Time Range\"] = \"07:00 - 07:30\";\n",
        "  \n",
        "  if df_2.loc[i, \"Time Range\"] == \"7:00 - 7:30\":\n",
        "    df_2.loc[i, \"Time Range\"] = \"07:00 - 07:30\";\n",
        "  \n",
        "  if df_2.loc[i, \"Time Range\"] == \"9:30 - 10:30\":\n",
        "    df_2.loc[i, \"Time Range\"] = \"09:30 - 10:30\";\n",
        "  \n",
        "  if df_2.loc[i, \"Time Range\"] == \"8:00 - 8:30\":\n",
        "    df_2.loc[i, \"Time Range\"] = \"08:00 - 08:30\";\n",
        "  \n",
        "  if df_2.loc[i, \"Time Range\"] == \"8:00 - 8:30\":\n",
        "    df_2.loc[i, \"Time Range\"] = \"08:00 - 08:30\";\n",
        "  \n",
        "  if df_2.loc[i, \"Time Range\"] == \"7:30 - 8:00\":\n",
        "    df_2.loc[i, \"Time Range\"] = \"07:30 - 08:00\";\n",
        "  \n",
        "  if df_2.loc[i, \"Time Range\"] == \"16:00-16:30\":\n",
        "    df_2.loc[i, \"Time Range\"] = \"16:00 - 16:30\";\n",
        "  \n",
        "  if df_2.loc[i, \"Time Range\"] == \"18:00-18:30\":\n",
        "    df_2.loc[i, \"Time Range\"] = \"18:00 - 18:30\";\n",
        "  \n",
        "  if df_2.loc[i, \"Time Range\"] == \"6:30 - 7:00\":\n",
        "    df_2.loc[i, \"Time Range\"] = \"06:30 - 07:00\";\n",
        "  \n",
        "  if df_2.loc[i, \"Time Range\"] == \"9:30 - 10:00\":\n",
        "    df_2.loc[i, \"Time Range\"] = \"09:30 - 10:00\";\n",
        "  \n",
        "  if df_2.loc[i, \"Time Range\"] == \"10:00-10:30\":\n",
        "    df_2.loc[i, \"Time Range\"] = \"10:00 - 10:30\";\n",
        "  \n",
        "  if df_2.loc[i, \"Time Range\"] == \"7:30 - 8:30\":\n",
        "    df_2.loc[i, \"Time Range\"] = \"07:30 - 08:30\";\n",
        "  \n",
        "  if df_2.loc[i, \"Time Range\"] == \"9:00 - 9:30\":\n",
        "    df_2.loc[i, \"Time Range\"] = \"09:00 - 09:30\";\n",
        "  \n",
        "  if df_2.loc[i, \"Time Range\"] == \"7:00-7:30\":\n",
        "    df_2.loc[i, \"Time Range\"] = \"07:00 - 07:30\";\n",
        "  \n",
        "  if df_2.loc[i, \"Time Range\"] == \"10:30-11:00\":\n",
        "    df_2.loc[i, \"Time Range\"] = \"10:30 - 11:00\";\n",
        "  \n",
        "  if df_2.loc[i, \"Time Range\"] == \"8:30-9:00\":\n",
        "    df_2.loc[i, \"Time Range\"] = \"08:30 - 09:00\";\n",
        "  \n",
        "  if df_2.loc[i, \"Time Range\"] == \"13:00 -13:30\":\n",
        "    df_2.loc[i, \"Time Range\"] = \"13:00 - 13:30\";\n",
        "  \n",
        "  if df_2.loc[i, \"Time Range\"] == \"14:00 -14:30\":\n",
        "    df_2.loc[i, \"Time Range\"] = \"14:00 - 14:30\";\n",
        "  \n",
        "  if df_2.loc[i, \"Time Range\"] == \"15:30 -16:00\":\n",
        "    df_2.loc[i, \"Time Range\"] = \"15:30 - 16:00\";\n",
        "  \n",
        "  if df_2.loc[i, \"Time Range\"] == \"8:00-8:30\":\n",
        "    df_2.loc[i, \"Time Range\"] = \"08:00 - 08:30\";\n",
        "  \n",
        "  if df_2.loc[i, \"Time Range\"] == \"15:00 -15:30\":\n",
        "    df_2.loc[i, \"Time Range\"] = \"15:00 - 15:30\";\n",
        "  \n",
        "  if df_2.loc[i, \"Time Range\"] == \"12:30-13:00\":\n",
        "    df_2.loc[i, \"Time Range\"] = \"12:30 - 13:00\";\n",
        "  \n",
        "  if df_2.loc[i, \"Time Range\"] == \"14:30-15:00\":\n",
        "    df_2.loc[i, \"Time Range\"] = \"14:30 - 15:00\";\n",
        "  \n",
        "  if df_2.loc[i, \"Time Range\"] == \"9:00-9:30\":\n",
        "    df_2.loc[i, \"Time Range\"] = \"09:00 - 09:30\";\n",
        "  \n",
        "  if df_2.loc[i, \"Time Range\"] == \"09:30-10:00\":\n",
        "    df_2.loc[i, \"Time Range\"] = \"09:30 - 10:00\";\n",
        "  \n",
        "  if df_2.loc[i, \"Time Range\"] == \"9:30-10:00\":\n",
        "    df_2.loc[i, \"Time Range\"] = \"09:30 - 10:00\";\n",
        "  \n",
        "  if df_2.loc[i, \"Time Range\"] == \"11:30-12:00\":\n",
        "    df_2.loc[i, \"Time Range\"] = \"11:30 - 12:00\";\n",
        "  \n",
        "  if df_2.loc[i, \"Time Range\"] == \"16:30-17:00\":\n",
        "    df_2.loc[i, \"Time Range\"] = \"16:30 - 17:00\";\n",
        "  \n",
        "  if df_2.loc[i, \"Time Range\"] == \"18:00 -18:30\":\n",
        "    df_2.loc[i, \"Time Range\"] = \"18:00 - 18:30\";\n",
        "  \n",
        "  if df_2.loc[i, \"Time Range\"] == \"12:00-12:30\":\n",
        "    df_2.loc[i, \"Time Range\"] = \"12:00 - 12:30\";\n",
        "  \n",
        "  if df_2.loc[i, \"Time Range\"] == \"13:30-14:00\":\n",
        "    df_2.loc[i, \"Time Range\"] = \"13:30 - 14:00\";\n",
        "  \n",
        "  if df_2.loc[i, \"Time Range\"] == \"10:30 - 11:30\":\n",
        "    df_2.loc[i, \"Time Range\"] = \"10:30 - 11:00\";\n",
        "  \n",
        "  if df_2.loc[i, \"Time Range\"] == \"10:30-11:30\":\n",
        "    df_2.loc[i, \"Time Range\"] = \"10:30 - 11:00\";\n",
        "  \n",
        "  if df_2.loc[i, \"Time Range\"] == \"7:30-8:00\":\n",
        "    df_2.loc[i, \"Time Range\"] = \"07:30 - 08:00\";\n",
        "  \n",
        "  if df_2.loc[i, \"Time Range\"] == \"15:00-15:30\":\n",
        "    df_2.loc[i, \"Time Range\"] = \"15:00 - 15:30\";\n",
        "  \n",
        "  if df_2.loc[i, \"Time Range\"] == \"07:00 -07:30\":\n",
        "    df_2.loc[i, \"Time Range\"] = \"07:00 - 07:30\";\n",
        "  \n",
        "  if df_2.loc[i, \"Time Range\"] == \"07:30 -08:00\":\n",
        "    df_2.loc[i, \"Time Range\"] = \"07:30 - 08:00\";\n",
        "  \n",
        "  if df_2.loc[i, \"Time Range\"] == \"11:00 -11:30\":\n",
        "    df_2.loc[i, \"Time Range\"] = \"11:00 - 11:30\";\n",
        "  \n",
        "  if df_2.loc[i, \"Time Range\"] == \"13:00 - 13:00\":\n",
        "    df_2.loc[i, \"Time Range\"] = \"13:00 - 13:30\";\n",
        "  \n",
        "  if df_2.loc[i, \"Time Range\"] == \"15:30 - 15:30\":\n",
        "    df_2.loc[i, \"Time Range\"] = \"15:30 - 16:00\";\n",
        "  \n",
        "  if df_2.loc[i, \"Time Range\"] == \"18:30 - 18:30\":\n",
        "    df_2.loc[i, \"Time Range\"] = \"18:30 - 19:00\";\n",
        "  \n",
        "  if df_2.loc[i, \"Time Range\"] == \"10:00 - 11:00\":\n",
        "    df_2.loc[i, \"Time Range\"] = \"10:00 - 10:30\";\n",
        "  \n",
        "  if df_2.loc[i, \"Time Range\"] == \"20:30 - 21:30\":\n",
        "    df_2.loc[i, \"Time Range\"] = \"20:30 - 21:00\";\n",
        "  \n",
        "  if df_2.loc[i, \"Time Range\"] == \"07:30 - 08:30\":\n",
        "    df_2.loc[i, \"Time Range\"] = \"07:30 - 08:00\";\n",
        "  \n",
        "  if df_2.loc[i, \"Time Range\"] == \"14:30 - 15:30\":\n",
        "    df_2.loc[i, \"Time Range\"] = \"14:30 - 15:00\";\n",
        "  \n",
        "  if df_2.loc[i, \"Time Range\"] == \"09:30 - 10:30\":\n",
        "    df_2.loc[i, \"Time Range\"] = \"09:30 - 10:00\";\n",
        "  \n",
        "  if df_2.loc[i, \"Time Range\"] == \"06:30 - 07:00\":\n",
        "    df_2.loc[i, \"Time Range\"] = \"07:00 - 07:30\";\n",
        "  \n",
        "df_2[\"Time Range\"].unique().tolist()"
      ]
    },
    {
      "cell_type": "markdown",
      "metadata": {},
      "source": [
        "Clean the Task Category column"
      ]
    },
    {
      "cell_type": "code",
      "execution_count": 13,
      "metadata": {
        "colab": {
          "base_uri": "https://localhost:8080/"
        },
        "id": "3UskVzCqizOu",
        "outputId": "5491adc3-4273-4fd3-a618-e8cd6a769606"
      },
      "outputs": [
        {
          "data": {
            "text/plain": [
              "['Others',\n",
              " 'MyAccount Issues',\n",
              " 'Microsoft 365 Issues',\n",
              " 'CNA/Login Issues',\n",
              " 'Academic Advising',\n",
              " 'Blackboard Issues',\n",
              " 'Enrollment Service',\n",
              " 'Kaltura',\n",
              " 'Zoom Help',\n",
              " 'Printing',\n",
              " 'Citrix',\n",
              " 'Douglas College International',\n",
              " 'WiFi Connectivity',\n",
              " 'Bookstore']"
            ]
          },
          "execution_count": 13,
          "metadata": {},
          "output_type": "execute_result"
        }
      ],
      "source": [
        "for i in df_2.index:\n",
        "  # ******************* CNA/Login Issues ***********************\n",
        "  if df_2.loc[i, \"Task Category\"] == \"Password Portal\":\n",
        "    df_2.loc[i, \"Task Category\"] = \"CNA/Login Issues\";\n",
        "  \n",
        "  if df_2.loc[i, \"Task Category\"] == \"Career Hub Issue\":\n",
        "    df_2.loc[i, \"Task Category\"] = \"CNA/Login Issues\";\n",
        "  \n",
        "  if df_2.loc[i, \"Task Category\"] == \"CNA Questions\":\n",
        "    df_2.loc[i, \"Task Category\"] = \"CNA/Login Issues\";\n",
        "  \n",
        "  if df_2.loc[i, \"Task Category\"] == \"Student lost CNA Credentials\":\n",
        "    df_2.loc[i, \"Task Category\"] = \"CNA/Login Issues\";\n",
        "  \n",
        "  # ******************* Blackboard Issues ***********************\n",
        "  if df_2.loc[i, \"Task Category\"] == \"Blackboard - General (Course content etc)\":\n",
        "    df_2.loc[i, \"Task Category\"] = \"Blackboard Issues\";\n",
        "  \n",
        "  if df_2.loc[i, \"Task Category\"] == \"Blackboard App Issue\":\n",
        "    df_2.loc[i, \"Task Category\"] = \"Blackboard Issues\";\n",
        "  \n",
        "  if df_2.loc[i, \"Task Category\"] == \"Blackboard App issue\":\n",
        "    df_2.loc[i, \"Task Category\"] = \"Blackboard Issues\";\n",
        "  \n",
        "  if df_2.loc[i, \"Task Category\"] == \"Blackboard - Technical Assistance (audio/video)\":\n",
        "    df_2.loc[i, \"Task Category\"] = \"Blackboard Issues\";\n",
        "\n",
        "  if df_2.loc[i, \"Task Category\"] == \"Blackboard - error\":\n",
        "    df_2.loc[i, \"Task Category\"] = \"Blackboard Issues\";\n",
        "  \n",
        "  if df_2.loc[i, \"Task Category\"] == \"Blackboard-Mail \":\n",
        "    df_2.loc[i, \"Task Category\"] = \"Blackboard Issues\";\n",
        "\n",
        "  # ******************* MyAccount Issues ***********************\n",
        "  if df_2.loc[i, \"Task Category\"] == \"MyAccount - Directed student to SSPR\":\n",
        "    df_2.loc[i, \"Task Category\"] = \"MyAccount Issues\";\n",
        "  \n",
        "  if df_2.loc[i, \"Task Category\"] == \"Can't log into MyAccount\":\n",
        "    df_2.loc[i, \"Task Category\"] = \"MyAccount Issues\";\n",
        "  \n",
        "  if df_2.loc[i, \"Task Category\"] == \"MyAccount Locked\":\n",
        "    df_2.loc[i, \"Task Category\"] = \"MyAccount Issues\";\n",
        "  \n",
        "  if df_2.loc[i, \"Task Category\"] == \"MyAccount Disabled\":\n",
        "    df_2.loc[i, \"Task Category\"] = \"MyAccount Issues\";\n",
        "  \n",
        "  if df_2.loc[i, \"Task Category\"] == \"MyAccount Questions\":\n",
        "    df_2.loc[i, \"Task Category\"] = \"MyAccount Issues\";\n",
        "  \n",
        "  if df_2.loc[i, \"Task Category\"] == \"MyAccount - Missing CNA Email\":\n",
        "    df_2.loc[i, \"Task Category\"] = \"MyAccount Issues\";\n",
        "  \n",
        "  if df_2.loc[i, \"Task Category\"] == \"Myaccount issue\":\n",
        "    df_2.loc[i, \"Task Category\"] = \"MyAccount Issues\";\n",
        "  \n",
        "  # ******************* Enrollment Service ***********************\n",
        "  if df_2.loc[i, \"Task Category\"] == \"Registration\":\n",
        "    df_2.loc[i, \"Task Category\"] = \"Enrollment Service\";\n",
        "  \n",
        "  if df_2.loc[i, \"Task Category\"] == \"Fee Payment\":\n",
        "    df_2.loc[i, \"Task Category\"] = \"Enrollment Service\";\n",
        "  \n",
        "  if df_2.loc[i, \"Task Category\"] == \"Enrollment\":\n",
        "    df_2.loc[i, \"Task Category\"] = \"Enrollment Service\";\n",
        "  \n",
        "  if df_2.loc[i, \"Task Category\"] == \"Upass and change of course\":\n",
        "    df_2.loc[i, \"Task Category\"] = \"Enrollment Service\";\n",
        "  \n",
        "  if df_2.loc[i, \"Task Category\"] == \"Enrolment Service\":\n",
        "    df_2.loc[i, \"Task Category\"] = \"Enrollment Service\";\n",
        "  \n",
        "  if df_2.loc[i, \"Task Category\"] == \"Admissions\":\n",
        "    df_2.loc[i, \"Task Category\"] = \"Enrollment Service\";\n",
        "  \n",
        "  # ******************* Kaltura ***********************\n",
        "  if df_2.loc[i, \"Task Category\"] == \"Kaltura Upload\":\n",
        "    df_2.loc[i, \"Task Category\"] = \"Kaltura\";\n",
        "  \n",
        "  # ******************* Academic Advising ***********************\n",
        "  if df_2.loc[i, \"Task Category\"] == \"Advising Services\":\n",
        "    df_2.loc[i, \"Task Category\"] = \"Academic Advising\";\n",
        "  \n",
        "  # ******************* Microsoft 365 Issues ***********************\n",
        "  if df_2.loc[i, \"Task Category\"] == \"PowerPoint Issue\":\n",
        "    df_2.loc[i, \"Task Category\"] = \"Microsoft 365 Issues\";\n",
        "  \n",
        "  if df_2.loc[i, \"Task Category\"] == \"PowerPoint Help\":\n",
        "    df_2.loc[i, \"Task Category\"] = \"Microsoft 365 Issues\";\n",
        "  \n",
        "  # ******************* Others ***********************\n",
        "  if df_2.loc[i, \"Task Category\"] == \"Hardware Issue\":\n",
        "    df_2.loc[i, \"Task Category\"] = \"Others\";\n",
        "  \n",
        "  if df_2.loc[i, \"Task Category\"] == \"No\":\n",
        "    df_2.loc[i, \"Task Category\"] = \"Others\";\n",
        "  \n",
        "  if df_2.loc[i, \"Task Category\"] == \"Not Specified\":\n",
        "    df_2.loc[i, \"Task Category\"] = \"Others\";\n",
        "  \n",
        "  if df_2.loc[i, \"Task Category\"] == \"PC Recommendation\":\n",
        "    df_2.loc[i, \"Task Category\"] = \"Others\";\n",
        "  \n",
        "  if df_2.loc[i, \"Task Category\"] == \"Course Software Technical Assistance\":\n",
        "    df_2.loc[i, \"Task Category\"] = \"Others\";\n",
        "  \n",
        "  if df_2.loc[i, \"Task Category\"] == \"Microsoft Windows Issues\":\n",
        "    df_2.loc[i, \"Task Category\"] = \"Others\";\n",
        "  \n",
        "  if df_2.loc[i, \"Task Category\"] == \"Computer Hardware Issues\":\n",
        "    df_2.loc[i, \"Task Category\"] = \"Others\";\n",
        "  \n",
        "  if df_2.loc[i, \"Task Category\"] == \"Other\":\n",
        "    df_2.loc[i, \"Task Category\"] = \"Others\";\n",
        "  \n",
        "  if df_2.loc[i, \"Task Category\"] == \"Computer Software Issues\":\n",
        "    df_2.loc[i, \"Task Category\"] = \"Others\";\n",
        "  \n",
        "  # ******************* Printing ***********************\n",
        "  if df_2.loc[i, \"Task Category\"] == \"Scanner Question\":\n",
        "    df_2.loc[i, \"Task Category\"] = \"Printing\";\n",
        "  \n",
        "  # ******************* WiFi Connectivity ***********************\n",
        "  if df_2.loc[i, \"Task Category\"] == \"College Wifi Issues\":\n",
        "    df_2.loc[i, \"Task Category\"] = \"WiFi Connectivity\";\n",
        "  \n",
        "  # ******************* Library and Learning Centre ***********************\n",
        "  if df_2.loc[i, \"Task Category\"] == \"Learning centre\":\n",
        "    df_2.loc[i, \"Task Category\"] = \"WiFi Connectivity\";\n",
        "  \n",
        "  if df_2.loc[i, \"Task Category\"] == \"Help with assisgnments \":\n",
        "    df_2.loc[i, \"Task Category\"] = \"WiFi Connectivity\";\n",
        "\n",
        "df_2[\"Task Category\"].unique().tolist()"
      ]
    },
    {
      "cell_type": "markdown",
      "metadata": {},
      "source": [
        "Clean the 'Escalated to SD?' column"
      ]
    },
    {
      "cell_type": "code",
      "execution_count": 14,
      "metadata": {
        "colab": {
          "base_uri": "https://localhost:8080/"
        },
        "id": "LAiQ8Zi_HSoH",
        "outputId": "665c2ae8-8810-4641-8be8-4de71ed9b792"
      },
      "outputs": [
        {
          "data": {
            "text/plain": [
              "['No', 'Yes']"
            ]
          },
          "execution_count": 14,
          "metadata": {},
          "output_type": "execute_result"
        }
      ],
      "source": [
        "for i in df_2.index:\n",
        "  if df_2.loc[i, \"Escalated to SD?\"] == \"no\":\n",
        "    df_2.loc[i, \"Escalated to SD?\"] = \"No\";\n",
        "\n",
        "df_2[\"Escalated to SD?\"].unique().tolist()"
      ]
    },
    {
      "cell_type": "markdown",
      "metadata": {},
      "source": [
        "Ouptut of cleaned dataframe of Post-Winter 2021 SHS Statistics data"
      ]
    },
    {
      "cell_type": "code",
      "execution_count": 15,
      "metadata": {
        "colab": {
          "base_uri": "https://localhost:8080/",
          "height": 81
        },
        "id": "NDPMhBXAHp8X",
        "outputId": "2b7403b8-9162-43fb-9f68-f23a8ddd2974"
      },
      "outputs": [
        {
          "name": "stdout",
          "output_type": "stream",
          "text": [
            "Number of Rows: 595\n"
          ]
        },
        {
          "data": {
            "text/html": [
              "<div>\n",
              "<style scoped>\n",
              "    .dataframe tbody tr th:only-of-type {\n",
              "        vertical-align: middle;\n",
              "    }\n",
              "\n",
              "    .dataframe tbody tr th {\n",
              "        vertical-align: top;\n",
              "    }\n",
              "\n",
              "    .dataframe thead th {\n",
              "        text-align: right;\n",
              "    }\n",
              "</style>\n",
              "<table border=\"1\" class=\"dataframe\">\n",
              "  <thead>\n",
              "    <tr style=\"text-align: right;\">\n",
              "      <th></th>\n",
              "      <th>Date</th>\n",
              "      <th>Time Range</th>\n",
              "      <th>Task Category</th>\n",
              "      <th>Escalated to SD?</th>\n",
              "      <th>Description</th>\n",
              "    </tr>\n",
              "  </thead>\n",
              "  <tbody>\n",
              "    <tr>\n",
              "      <th>82</th>\n",
              "      <td>2021-06-28</td>\n",
              "      <td>07:00 - 07:30</td>\n",
              "      <td>Others</td>\n",
              "      <td>No</td>\n",
              "      <td>Hardware Issue</td>\n",
              "    </tr>\n",
              "  </tbody>\n",
              "</table>\n",
              "</div>"
            ],
            "text/plain": [
              "         Date     Time Range Task Category Escalated to SD?     Description\n",
              "82 2021-06-28  07:00 - 07:30        Others               No  Hardware Issue"
            ]
          },
          "execution_count": 15,
          "metadata": {},
          "output_type": "execute_result"
        }
      ],
      "source": [
        "print(f\"Number of Rows: {len(df_2)}\");\n",
        "# df_2[0:1]\n",
        "df_2[0:1][[\n",
        "    \"Date\",\n",
        "    \"Time Range\",\n",
        "    \"Task Category\",\n",
        "    \"Escalated to SD?\",\n",
        "    \"Description\"\n",
        "]]"
      ]
    },
    {
      "cell_type": "markdown",
      "metadata": {
        "id": "fEQfiuwQexC3"
      },
      "source": [
        "**Combine Pre-Summer 2021 data and Post-Summer 2021 data together**"
      ]
    },
    {
      "cell_type": "markdown",
      "metadata": {},
      "source": [
        "Perform high level dataframe manipulation"
      ]
    },
    {
      "cell_type": "code",
      "execution_count": 16,
      "metadata": {
        "id": "1ZqZUhDCa_Tf"
      },
      "outputs": [],
      "source": [
        "df = pd.concat([df_temp, df_2], ignore_index=True);\n",
        "df = df.sort_values([\"Date\",\"Time Range\"], ascending=True);\n",
        "df = df.drop_duplicates(keep=\"last\");\n",
        "df = df.reset_index();\n",
        "df = df[df.columns.tolist()[1:]];\n",
        "df[\"Date\"] = pd.to_datetime(df[\"Date\"]);"
      ]
    },
    {
      "cell_type": "markdown",
      "metadata": {},
      "source": [
        "Check to see if all dates in the dataframe is a legitimate workday/weekday"
      ]
    },
    {
      "cell_type": "code",
      "execution_count": 17,
      "metadata": {
        "colab": {
          "base_uri": "https://localhost:8080/"
        },
        "id": "-Og_OXwC7vDz",
        "outputId": "120e7c03-58d7-434e-e14f-432d65bc0152"
      },
      "outputs": [
        {
          "name": "stdout",
          "output_type": "stream",
          "text": [
            "2021-02-27 00:00:00\n",
            "2021-08-21 00:00:00\n"
          ]
        }
      ],
      "source": [
        "dayOfWeek = [\"Monday\",\"Tuesday\",\"Wednesday\",\"Thursday\",\"Friday\"];\n",
        "for i in df.index:\n",
        "  status = False;\n",
        "  for day in dayOfWeek:\n",
        "    if pd.Timestamp(df.loc[i, \"Date\"]).day_name() == day:\n",
        "      status = True;\n",
        "  if status == False:\n",
        "    print(df.loc[i, \"Date\"]);"
      ]
    },
    {
      "cell_type": "markdown",
      "metadata": {},
      "source": [
        "Manually adjust the dates so that they reflect a legitimate workday/weekday date"
      ]
    },
    {
      "cell_type": "code",
      "execution_count": 18,
      "metadata": {
        "id": "N_3Fxbbx9eb3"
      },
      "outputs": [],
      "source": [
        "for i in df.index:\n",
        "  if df.loc[i, \"Date\"] == pd.Timestamp(\"2021-02-27\"):\n",
        "    df.loc[i, \"Date\"] = pd.Timestamp(\"2021-02-26\");\n",
        "  \n",
        "  if df.loc[i, \"Date\"] == pd.Timestamp(\"2021-08-21\"):\n",
        "    df.loc[i, \"Date\"] = pd.Timestamp(\"2021-08-20\");"
      ]
    },
    {
      "cell_type": "markdown",
      "metadata": {},
      "source": [
        "**Final Cleaned 2021 SHS Statistics Data**"
      ]
    },
    {
      "cell_type": "code",
      "execution_count": 19,
      "metadata": {
        "colab": {
          "base_uri": "https://localhost:8080/",
          "height": 223
        },
        "id": "xqFO7Mqs_zJz",
        "outputId": "e991d04c-910b-4820-d836-dd540b062ef3"
      },
      "outputs": [
        {
          "name": "stdout",
          "output_type": "stream",
          "text": [
            "Number of Rows: 1162\tNumber of Columns: 6\n"
          ]
        },
        {
          "data": {
            "text/html": [
              "<div>\n",
              "<style scoped>\n",
              "    .dataframe tbody tr th:only-of-type {\n",
              "        vertical-align: middle;\n",
              "    }\n",
              "\n",
              "    .dataframe tbody tr th {\n",
              "        vertical-align: top;\n",
              "    }\n",
              "\n",
              "    .dataframe thead th {\n",
              "        text-align: right;\n",
              "    }\n",
              "</style>\n",
              "<table border=\"1\" class=\"dataframe\">\n",
              "  <thead>\n",
              "    <tr style=\"text-align: right;\">\n",
              "      <th></th>\n",
              "      <th>Date</th>\n",
              "      <th>Time Range</th>\n",
              "      <th>Task Category</th>\n",
              "      <th>Escalated to SD?</th>\n",
              "      <th>Description</th>\n",
              "    </tr>\n",
              "  </thead>\n",
              "  <tbody>\n",
              "    <tr>\n",
              "      <th>0</th>\n",
              "      <td>2021-01-04</td>\n",
              "      <td>07:00 - 07:30</td>\n",
              "      <td>Academic Advising</td>\n",
              "      <td>No</td>\n",
              "      <td>Academic Advising</td>\n",
              "    </tr>\n",
              "    <tr>\n",
              "      <th>1</th>\n",
              "      <td>2021-01-04</td>\n",
              "      <td>07:30 - 08:00</td>\n",
              "      <td>Blackboard Issues</td>\n",
              "      <td>No</td>\n",
              "      <td>Blackboard Issues</td>\n",
              "    </tr>\n",
              "    <tr>\n",
              "      <th>2</th>\n",
              "      <td>2021-01-04</td>\n",
              "      <td>07:30 - 08:00</td>\n",
              "      <td>Blackboard Issues</td>\n",
              "      <td>No</td>\n",
              "      <td>Blackboard Issues</td>\n",
              "    </tr>\n",
              "    <tr>\n",
              "      <th>3</th>\n",
              "      <td>2021-01-04</td>\n",
              "      <td>07:30 - 08:00</td>\n",
              "      <td>MyAccount Issues</td>\n",
              "      <td>No</td>\n",
              "      <td>MyAccount Issues</td>\n",
              "    </tr>\n",
              "    <tr>\n",
              "      <th>4</th>\n",
              "      <td>2021-01-04</td>\n",
              "      <td>08:00 - 08:30</td>\n",
              "      <td>Zoom Help</td>\n",
              "      <td>No</td>\n",
              "      <td>Zoom Troubleshooting</td>\n",
              "    </tr>\n",
              "  </tbody>\n",
              "</table>\n",
              "</div>"
            ],
            "text/plain": [
              "        Date     Time Range      Task Category Escalated to SD?  \\\n",
              "0 2021-01-04  07:00 - 07:30  Academic Advising               No   \n",
              "1 2021-01-04  07:30 - 08:00  Blackboard Issues               No   \n",
              "2 2021-01-04  07:30 - 08:00  Blackboard Issues               No   \n",
              "3 2021-01-04  07:30 - 08:00   MyAccount Issues               No   \n",
              "4 2021-01-04  08:00 - 08:30          Zoom Help               No   \n",
              "\n",
              "            Description  \n",
              "0     Academic Advising  \n",
              "1     Blackboard Issues  \n",
              "2     Blackboard Issues  \n",
              "3      MyAccount Issues  \n",
              "4  Zoom Troubleshooting  "
            ]
          },
          "execution_count": 19,
          "metadata": {},
          "output_type": "execute_result"
        }
      ],
      "source": [
        "print(f\"Number of Rows: {len(df)}\\tNumber of Columns: {len(df.columns.tolist())}\");\n",
        "# df.head()\n",
        "df.head()[[\n",
        "    \"Date\",\n",
        "    \"Time Range\",\n",
        "    \"Task Category\",\n",
        "    \"Escalated to SD?\",\n",
        "    \"Description\"\n",
        "]]"
      ]
    },
    {
      "cell_type": "markdown",
      "metadata": {},
      "source": [
        "# Loading"
      ]
    },
    {
      "cell_type": "markdown",
      "metadata": {},
      "source": [
        "**Load cleaned dataframe for analysis**"
      ]
    },
    {
      "cell_type": "code",
      "execution_count": 20,
      "metadata": {},
      "outputs": [],
      "source": [
        "df.to_excel(\"2_data/Cleaned 2021 SHS Statistics Data.xlsx\", index=False);"
      ]
    }
  ],
  "metadata": {
    "colab": {
      "collapsed_sections": [],
      "name": "SHS_Stats-2021DataAnalysis.ipynb",
      "provenance": []
    },
    "kernelspec": {
      "display_name": "Python 3",
      "name": "python3"
    },
    "language_info": {
      "codemirror_mode": {
        "name": "ipython",
        "version": 3
      },
      "file_extension": ".py",
      "mimetype": "text/x-python",
      "name": "python",
      "nbconvert_exporter": "python",
      "pygments_lexer": "ipython3",
      "version": "3.9.7"
    }
  },
  "nbformat": 4,
  "nbformat_minor": 0
}
